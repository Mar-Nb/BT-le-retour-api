{
 "cells": [
  {
   "cell_type": "markdown",
   "id": "olympic-audience",
   "metadata": {},
   "source": [
    "# TME3 - Mars 2021\n",
    "> Séance du 11/03/2021\n",
    "\n",
    "Dans ce TME, le but est d'étendre les fonctionnalités d'une API contenant les produits de Bateau Thibault, en ajoutant de nouveaux **endpoints**. Pour cela, on utilise le langage Python (3.x) et le framework Django REST Framework.\n",
    "\n",
    "Lors des TME précédents, des endpoints ont déjà été mis en place :\n",
    "\n",
    "* `/availableproduct/<id>/` et `/availableproducts/`, pour la liste des produits disponibles.\n",
    "* `/shipPoint/<id>` et `/shipPoints/`, pour la liste des points de livraisons.\n",
    "* `/myImage/<id>/` et `/myImage/random/`, pour l'obtention des images.\n",
    "* `/infoproduct/<id>` et `/infoproducts/`, pour les informations détaillées des produits.\n",
    "\n",
    "Les nouveaux endpoints à ajouter sont les suivants :\n",
    "\n",
    "* `/putonsale/<id>/<newprice>/` (Ajouter le produit aux produits en promotion, et mettre son prix de promotion)\n",
    "* `/removesale/<id>/` (Retirer la promotion d'un produit)\n",
    "* `/incrementstock/<id>/<number>/` (Augmenter le stock d'un produit)\n",
    "* `/decrementstock/<id>/<number>/` (Diminuer le stock d'un produit)\n",
    "\n",
    "## Exercice 2 : Mise manuelle de produit en promotion\n",
    "### Chemin `putonsale`\n",
    ">  Url : `/putonsale/<id>/<newprice>/`\n",
    "\n",
    "Pour le premier endpoint, il faut modifier les fichiers suivants :\n",
    "\n",
    "* `mytig/models.py` (modèle `ProduitEnPromotion()`)\n",
    "* `mytig/serializers.py` (serializer `ProduitEnPromotionSerializer()`)\n",
    "* `myShop/urls.py`\n",
    "* `myShop/views.py` (vue `RedirectionMiseEnPromoManuelle()`)\n",
    "\n",
    "#### Modification du `models.py`"
   ]
  },
  {
   "cell_type": "code",
   "execution_count": null,
   "id": "powerful-gateway",
   "metadata": {},
   "outputs": [],
   "source": [
    "class ProduitEnPromotion(models.Model):\n",
    "    created = models.DateTimeField(auto_now_add = True)\n",
    "    tigID = models.IntegerField(default = '-1')\n",
    "    \n",
    "    # Ajout du champ \"discount\" dans le modèle de base de données\n",
    "    discount = models.FloatField(default = 0)\n",
    "    \n",
    "    # ..."
   ]
  },
  {
   "cell_type": "markdown",
   "id": "wrapped-makeup",
   "metadata": {},
   "source": [
    "#### Modification du `serializers.py`"
   ]
  },
  {
   "cell_type": "code",
   "execution_count": null,
   "id": "surgical-pattern",
   "metadata": {},
   "outputs": [],
   "source": [
    "class ProduitEnPromotionSerializer(ModelSerializer):\n",
    "    class Meta:\n",
    "        model = ProduitEnPromotion\n",
    "        \n",
    "        # Ajout du champ \"discount\" dans le serializer\n",
    "        fields = (\"id\", \"tigID\", \"discount\")\n",
    "        \n",
    "        # ..."
   ]
  },
  {
   "cell_type": "markdown",
   "id": "focal-candidate",
   "metadata": {},
   "source": [
    "#### Modification du `urls.py`"
   ]
  },
  {
   "cell_type": "code",
   "execution_count": null,
   "id": "bridal-retention",
   "metadata": {},
   "outputs": [],
   "source": [
    "# Ajout du chemin \"putonsale/\"\n",
    "path(\"putonsale/<int:id>/<str:newprice>/\", views.RedirectionMiseEnPromoManuelle.as_view())"
   ]
  },
  {
   "cell_type": "markdown",
   "id": "pleased-sentence",
   "metadata": {},
   "source": [
    "#### Modification du `views.py`"
   ]
  },
  {
   "cell_type": "code",
   "execution_count": null,
   "id": "distant-maintenance",
   "metadata": {},
   "outputs": [],
   "source": [
    "class RedirectionMiseEnPromoManuelle(APIView):\n",
    "    \"\"\" /putonsale/<int:id>/<str:newprice>/ \"\"\"\n",
    "    \n",
    "    def get_object(self, id):\n",
    "        \"\"\" Tente la récupération d'un produit en promotion, renvoie None si le produit n'existe pas. \"\"\"\n",
    "        try:\n",
    "            return ProduitEnPromotion.objects.get(tigID = id)\n",
    "        except PromotionEnPromotion.DoesNotExist:\n",
    "            return None\n",
    "    \n",
    "    def get(self, request, id, newprice, format = None):\n",
    "        \"\"\" Met le produit en promotion et renvoie le produit et sa remise. \"\"\"\n",
    "        produit = self.get_object(id)\n",
    "        \n",
    "        response = requests.get(baseUrl + \"product/\" + str(id) + \"/\")\n",
    "        jsondata = response.json()\n",
    "        jsondata[\"sale\"] = True\n",
    "        \n",
    "        # Impossible de mettre \"newprice\" en float dans l'url, donc try / except sur la\n",
    "        # conversion de str à float de newprice\n",
    "        try:\n",
    "            discount = float(newprice)\n",
    "            jsondata[\"discount\"] = discount\n",
    "        except:\n",
    "            return Response({'message': 'newprice doit être un flottant.'})\n",
    "        \n",
    "        # Soit le produit existe dans la DB et on update, soit on en fait un nouveau\n",
    "        # Cela a nécessité l'ajout du champ \"discount\" dans ProduitEnPromotion\n",
    "        # et ProduitEnPromotionSerializer\n",
    "        if produit is not None:\n",
    "            ProduitEnPromotion.objects.filter(tigID = id).update(discount = discount)\n",
    "        else:\n",
    "            promoProduit = ProduitEnPromotion(tigID = id, discount = discount)\n",
    "            promoProduit.save()\n",
    "        \n",
    "        return Response(jsondata)"
   ]
  },
  {
   "cell_type": "markdown",
   "id": "ranking-designer",
   "metadata": {},
   "source": []
  }
 ],
 "metadata": {
  "kernelspec": {
   "display_name": "Python 3",
   "language": "python",
   "name": "python3"
  },
  "language_info": {
   "codemirror_mode": {
    "name": "ipython",
    "version": 3
   },
   "file_extension": ".py",
   "mimetype": "text/x-python",
   "name": "python",
   "nbconvert_exporter": "python",
   "pygments_lexer": "ipython3",
   "version": "3.8.5"
  }
 },
 "nbformat": 4,
 "nbformat_minor": 5
}
